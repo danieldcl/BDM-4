{
 "cells": [
  {
   "cell_type": "markdown",
   "metadata": {},
   "source": [
    "# Homework 4 - MapReduce\n",
    "\n",
    "In this homework, we are practicing the MapReduce programming paradigm. \n",
    "\n",
    "You are required to turn in this notebook as BDM\\_HW4\\_<b>CCNY_ID</b>.ipynb. You will be asked to complete each task using the accompanied <i>mapreduce</i> package (as <b>mapreduce.py</b>) using one or more MapReduce \"jobs\". For each such job (with mr.run()), you are expected to supply a mapper and a reducer as needed. Below are sample usage of the package:\n",
    "\n",
    "```python\n",
    "    # Run on input1 using your mapper1 and reducer1 function\n",
    "    output = list(mr.run(input1, mapper1, reducer1))\n",
    "\n",
    "    # Run on input2 using only your mapper2, no reduce phase\n",
    "    output = list(mr.run(input2, mapper2))\n",
    "    \n",
    "    # Run on input3 using 2 nested MapReduce jobs\n",
    "    output = list(mr.run(mr.run(input3, mapper3, reducer3), mapper4, reducer4))\n",
    "```\n",
    "    \n",
    "Please note that the output of the mr.run() is always a <b>generator</b>. You have to cast it to a list if you'd like to view, index or print it out.\n",
    "\n",
    "We will be using only the citibike data (<b>citibike.csv</b>) for this homework."
   ]
  },
  {
   "cell_type": "code",
   "execution_count": 1,
   "metadata": {
    "collapsed": true
   },
   "outputs": [],
   "source": [
    "import csv\n",
    "import mapreduce as mr"
   ]
  },
  {
   "cell_type": "markdown",
   "metadata": {},
   "source": [
    "\n",
    "\n",
    "## Task 1 (2 points)\n",
    "\n",
    "We would like to write a MapReduce job to count the total number of trips involved at each station. For example, if a trip starts at station A and stops at station B, the trip will count for both A and B. You are asked to fill in the <b>mapper1</b> and <b>reducer1</b> code block. The output must be tuples, each consisting of a station name and a count. A portion of the expected output are included below."
   ]
  },
  {
   "cell_type": "code",
   "execution_count": 2,
   "metadata": {
    "collapsed": false
   },
   "outputs": [
    {
     "data": {
      "text/plain": [
       "[('1 Ave & E 15 St', 795),\n",
       " ('1 Ave & E 44 St', 219),\n",
       " ('10 Ave & W 28 St', 422),\n",
       " ('11 Ave & W 27 St', 354),\n",
       " ('11 Ave & W 41 St', 461),\n",
       " ('11 Ave & W 59 St', 242),\n",
       " ('12 Ave & W 40 St', 217),\n",
       " ('2 Ave & E 31 St', 588),\n",
       " ('2 Ave & E 58 St', 125),\n",
       " ('3 Ave & Schermerhorn St', 34)]"
      ]
     },
     "execution_count": 2,
     "metadata": {},
     "output_type": "execute_result"
    }
   ],
   "source": [
    "def mapper1(row):\n",
    "    yield (row['start_station_name'], 1)\n",
    "    yield (row['end_station_name'], 1)\n",
    "\n",
    "def reducer1(k2v2):\n",
    "    (word, count) = k2v2\n",
    "    return (word, len(count))\n",
    "\n",
    "with open('citibike.csv', 'r') as fi:\n",
    "    reader = csv.DictReader(fi)\n",
    "    output1 = list(mr.run(reader, mapper1, reducer1))\n",
    "\n",
    "output1[:10]"
   ]
  },
  {
   "cell_type": "code",
   "execution_count": null,
   "metadata": {
    "collapsed": true
   },
   "outputs": [],
   "source": []
  },
  {
   "cell_type": "markdown",
   "metadata": {},
   "source": [
    "\n",
    "## Task 2 (0 points)\n",
    "\n",
    "Below is an example of showing how to use nested jobs and jobs with mappers only using the mapreduce package, thus, no points are included. Our task here is that we would like to filter the output of Task 1 to display only those stations with more than 1000 trips involved, of course, using the MapReduce paradigm."
   ]
  },
  {
   "cell_type": "code",
   "execution_count": 3,
   "metadata": {
    "collapsed": false
   },
   "outputs": [
    {
     "data": {
      "text/plain": [
       "[('8 Ave & W 31 St', 1065),\n",
       " ('E 43 St & Vanderbilt Ave', 1003),\n",
       " ('Lafayette St & E 8 St', 1013),\n",
       " ('W 21 St & 6 Ave', 1057),\n",
       " ('W 41 St & 8 Ave', 1095)]"
      ]
     },
     "execution_count": 3,
     "metadata": {},
     "output_type": "execute_result"
    }
   ],
   "source": [
    "def mapper2((station,count)):\n",
    "    if count>1000:\n",
    "        yield (station,count)\n",
    "\n",
    "with open('citibike.csv', 'r') as fi:\n",
    "    reader = csv.DictReader(fi)\n",
    "    output2 = list(mr.run(mr.run(reader, mapper1, reducer1), mapper2))\n",
    "\n",
    "output2"
   ]
  },
  {
   "cell_type": "markdown",
   "metadata": {},
   "source": [
    "\n",
    "## Task 3 (2 points)\n",
    "\n",
    "We would like to count the number of trips taken between pairs of stations. Trips taken from station A to station B or  from station B to station A are both counted towards the station pair A and B. Please note that the station pair shoud be identified by station names, as a tuple, and in lexical order, i.e. (A,B) instead of (B,A) in this case. The output must be tuples, each consisting of the station pair identification and a count. A portion of the expected output are included below. You are asked to fill in the <b>mapper3</b> and <b>reducer3</b> code block. "
   ]
  },
  {
   "cell_type": "code",
   "execution_count": 4,
   "metadata": {
    "collapsed": false
   },
   "outputs": [
    {
     "data": {
      "text/plain": [
       "[(['1 Ave & E 15 St', '1 Ave & E 15 St'], 5),\n",
       " (['1 Ave & E 15 St', '1 Ave & E 44 St'], 6),\n",
       " (['1 Ave & E 15 St', '11 Ave & W 27 St'], 1),\n",
       " (['1 Ave & E 15 St', '2 Ave & E 31 St'], 9),\n",
       " (['1 Ave & E 15 St', '5 Ave & E 29 St'], 2),\n",
       " (['1 Ave & E 15 St', '6 Ave & Broome St'], 3),\n",
       " (['1 Ave & E 15 St', '6 Ave & Canal St'], 1),\n",
       " (['1 Ave & E 15 St', '8 Ave & W 31 St'], 5),\n",
       " (['1 Ave & E 15 St', '9 Ave & W 14 St'], 3),\n",
       " (['1 Ave & E 15 St', '9 Ave & W 16 St'], 3)]"
      ]
     },
     "execution_count": 4,
     "metadata": {},
     "output_type": "execute_result"
    }
   ],
   "source": [
    "def mapper3(row):\n",
    "    start_station = row['start_station_name']\n",
    "    end_station = row['end_station_name']\n",
    "    yield (sorted((start_station, end_station)), 1)\n",
    "\n",
    "def reducer3(k2v2):\n",
    "    (name, count) = k2v2\n",
    "    return (name, len(count))\n",
    "\n",
    "with open('citibike.csv', 'r') as fi:\n",
    "    reader = csv.DictReader(fi)\n",
    "    output3 = list(mr.run(reader, mapper3, reducer3))\n",
    "\n",
    "output3[:10]"
   ]
  },
  {
   "cell_type": "markdown",
   "metadata": {},
   "source": [
    "\n",
    "## Task 4 (2 points)\n",
    "\n",
    "Next, we would like to futher process the output from Task 3 to determine the station popularity among all of the station pairs that have 35 or more trips. The popularity of station is calculated as how many times it appears in the station pair lists for the top pairs. In other words, we would like to first filter the station pairs to only those that have 35 or more trips. Then, among these pairs, we count how many time each station appears and report back these counts. The output will be tuples, each consisting of the station name and a count. The expected output are included below. As illustrated, <i>W 41 St & 8 Ave</i> station is the most \"popular\" with 4 appearances. You are asked to fill in the <b>mapper4</b> and <b>reducer4</b> code block. "
   ]
  },
  {
   "cell_type": "code",
   "execution_count": 5,
   "metadata": {
    "collapsed": false
   },
   "outputs": [
    {
     "data": {
      "text/plain": [
       "[('10 Ave & W 28 St', 1),\n",
       " ('11 Ave & W 27 St', 2),\n",
       " ('11 Ave & W 41 St', 1),\n",
       " ('8 Ave & W 31 St', 3),\n",
       " ('8 Ave & W 33 St', 1),\n",
       " ('9 Ave & W 22 St', 1),\n",
       " ('Adelphi St & Myrtle Ave', 1),\n",
       " ('DeKalb Ave & Hudson Ave', 1),\n",
       " ('E 10 St & Avenue A', 1),\n",
       " ('E 24 St & Park Ave S', 2),\n",
       " ('E 27 St & 1 Ave', 1),\n",
       " ('E 32 St & Park Ave', 1),\n",
       " ('E 33 St & 2 Ave', 2),\n",
       " ('E 43 St & Vanderbilt Ave', 2),\n",
       " ('E 47 St & Park Ave', 1),\n",
       " ('E 6 St & Avenue B', 1),\n",
       " ('E 7 St & Avenue A', 1),\n",
       " ('Lafayette St & E 8 St', 3),\n",
       " ('Pershing Square North', 1),\n",
       " ('Pershing Square South', 2),\n",
       " ('Vesey Pl & River Terrace', 1),\n",
       " ('W 17 St & 8 Ave', 1),\n",
       " ('W 20 St & 11 Ave', 2),\n",
       " ('W 21 St & 6 Ave', 1),\n",
       " ('W 26 St & 8 Ave', 1),\n",
       " ('W 31 St & 7 Ave', 2),\n",
       " ('W 33 St & 7 Ave', 2),\n",
       " ('W 41 St & 8 Ave', 4),\n",
       " ('West Thames St', 1)]"
      ]
     },
     "execution_count": 5,
     "metadata": {},
     "output_type": "execute_result"
    }
   ],
   "source": [
    "def mapper4((station_pair, count)):\n",
    "    if count >= 35:\n",
    "        yield (station_pair[0], 1)\n",
    "        yield (station_pair[1], 1)\n",
    "    \n",
    "def reducer4(k2v2):\n",
    "    (name, count) = k2v2\n",
    "    return (name, len(count))\n",
    "\n",
    "output4 = list(mr.run(output3, mapper4, reducer4))\n",
    "output4"
   ]
  },
  {
   "cell_type": "markdown",
   "metadata": {},
   "source": [
    "\n",
    "## Task 5 (0 points)\n",
    "\n",
    "This is another example of showing how to use nested jobs and to put everything together, so no points are given. Basically, we can run Task 3 and Task 4 combined in just a single call."
   ]
  },
  {
   "cell_type": "code",
   "execution_count": 6,
   "metadata": {
    "collapsed": false
   },
   "outputs": [
    {
     "data": {
      "text/plain": [
       "[('10 Ave & W 28 St', 1),\n",
       " ('11 Ave & W 27 St', 2),\n",
       " ('11 Ave & W 41 St', 1),\n",
       " ('8 Ave & W 31 St', 3),\n",
       " ('8 Ave & W 33 St', 1),\n",
       " ('9 Ave & W 22 St', 1),\n",
       " ('Adelphi St & Myrtle Ave', 1),\n",
       " ('DeKalb Ave & Hudson Ave', 1),\n",
       " ('E 10 St & Avenue A', 1),\n",
       " ('E 24 St & Park Ave S', 2),\n",
       " ('E 27 St & 1 Ave', 1),\n",
       " ('E 32 St & Park Ave', 1),\n",
       " ('E 33 St & 2 Ave', 2),\n",
       " ('E 43 St & Vanderbilt Ave', 2),\n",
       " ('E 47 St & Park Ave', 1),\n",
       " ('E 6 St & Avenue B', 1),\n",
       " ('E 7 St & Avenue A', 1),\n",
       " ('Lafayette St & E 8 St', 3),\n",
       " ('Pershing Square North', 1),\n",
       " ('Pershing Square South', 2),\n",
       " ('Vesey Pl & River Terrace', 1),\n",
       " ('W 17 St & 8 Ave', 1),\n",
       " ('W 20 St & 11 Ave', 2),\n",
       " ('W 21 St & 6 Ave', 1),\n",
       " ('W 26 St & 8 Ave', 1),\n",
       " ('W 31 St & 7 Ave', 2),\n",
       " ('W 33 St & 7 Ave', 2),\n",
       " ('W 41 St & 8 Ave', 4),\n",
       " ('West Thames St', 1)]"
      ]
     },
     "execution_count": 6,
     "metadata": {},
     "output_type": "execute_result"
    }
   ],
   "source": [
    "with open('citibike.csv', 'r') as fi:\n",
    "    reader = csv.DictReader(fi)\n",
    "    output5 = list(mr.run(mr.run(reader, mapper3, reducer3), mapper4, reducer4))\n",
    "output5"
   ]
  },
  {
   "cell_type": "markdown",
   "metadata": {},
   "source": [
    "\n",
    "## Task 6 (4 points)\n",
    "\n",
    "In this task, you are asked to compute the station that riders started the most at for each gender. In particular, what was the station name with the highest number of bike pickups for female riders, male riders and unknown riders.\n",
    "\n",
    "The output will be a list of tuples, each includes a gender label (as indicated below) and another tuple consisting of a station name, and the total number of trips started at that station for that gender. The expected output are included below. You are asked to fill in the code block with a series of MapReduce jobs, using your own mapper and reducer functions.\n",
    "\n",
    "The label mapping for the gender column in citibike.csv is: (Zero=<b>Unknown</b>; 1=<b>Male</b>; 2=<b>Female</b>)"
   ]
  },
  {
   "cell_type": "code",
   "execution_count": 56,
   "metadata": {
    "collapsed": false
   },
   "outputs": [
    {
     "data": {
      "text/plain": [
       "[('Female', ('W 21 St & 6 Ave', 107)),\n",
       " ('Male', ('8 Ave & W 31 St', 488)),\n",
       " ('Unknown', ('Central Park S & 6 Ave', 32))]"
      ]
     },
     "execution_count": 56,
     "metadata": {},
     "output_type": "execute_result"
    }
   ],
   "source": [
    "def mapper5(row):\n",
    "    if row['gender']=='0':\n",
    "        yield (('Unknown', row['start_station_name']), 1)\n",
    "    elif row['gender']=='1':\n",
    "        yield (('Male', row['start_station_name']), 1)\n",
    "    else:\n",
    "        yield (('Female', row['start_station_name']), 1)\n",
    "    \n",
    "def reducer5(k2v2):\n",
    "    (name, count) = k2v2\n",
    "    return (name, len(count))\n",
    "\n",
    "def mapper6((k3,v3)):\n",
    "    yield (k3[0], (k3[1], v3))\n",
    "    \n",
    "def reducer6(k2v2):\n",
    "    (gender, stations) = k2v2\n",
    "    return (gender, max(stations, key=lambda x:x[1]))\n",
    "\n",
    "with open('citibike.csv', 'r') as fi:\n",
    "    reader = csv.DictReader(fi)\n",
    "    output5 = list(mr.run(mr.run(reader, mapper5, reducer5), mapper6, reducer6))\n",
    "output5\n"
   ]
  },
  {
   "cell_type": "code",
   "execution_count": null,
   "metadata": {
    "collapsed": false
   },
   "outputs": [],
   "source": []
  },
  {
   "cell_type": "code",
   "execution_count": null,
   "metadata": {
    "collapsed": true
   },
   "outputs": [],
   "source": []
  }
 ],
 "metadata": {
  "kernelspec": {
   "display_name": "Python 2",
   "language": "python",
   "name": "python2"
  },
  "language_info": {
   "codemirror_mode": {
    "name": "ipython",
    "version": 2
   },
   "file_extension": ".py",
   "mimetype": "text/x-python",
   "name": "python",
   "nbconvert_exporter": "python",
   "pygments_lexer": "ipython2",
   "version": "2.7.11"
  }
 },
 "nbformat": 4,
 "nbformat_minor": 0
}
